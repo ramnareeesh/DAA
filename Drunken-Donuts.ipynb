{
 "cells": [
  {
   "cell_type": "markdown",
   "metadata": {},
   "source": [
    "# Question 2 - Drunken-Donuts"
   ]
  },
  {
   "cell_type": "markdown",
   "metadata": {},
   "source": [
    "## Problem Statement"
   ]
  },
  {
   "cell_type": "markdown",
   "metadata": {},
   "source": [
    "Drunken Donuts, a new wine-and-donuts restaurant chain, wants to build restaurants on many street corners with the\n",
    "goal of maximizing their total profit. The street network is described as an undirected graph G = (V, E),\n",
    "where the potential restaurant sites are the vertices of the graph. Each vertex u has a non-negative integer value\n",
    "pu, which describes the potential profit of site u. Two restaurants cannot be built on adjacent vertices (to avoid\n",
    "self competition). You are supposed to design an algorithm that outputs the chosen set U ⊆ V of sites that maximizes\n",
    "the total profit u∈U pu. First, for parts (a)–(c), suppose that the street network G is acyclic, i.e., a tree.\n",
    "\n",
    "(a) Consider the following “greedy” restaurant-placement algorithm: Choose the highest-profit vertex u0 in the tree (\n",
    "breaking ties according to some order on vertex names) and put it into U. Remove u0 from further consideration,\n",
    "along with all of its neighbors in G. Repeat until no further vertices remain. Give a counterexample to show that\n",
    "this algorithm does not always give a restaurant placement with the maximum profit.\n",
    "\n",
    "(b) Suppose that, in the absence of good market research, DD decides that all sites are equally good, so the goal is\n",
    "simply to design a restaurant placement with the largest number of locations. Give a simple greedy algorithm for\n",
    "this case, and prove its correctness."
   ]
  },
  {
   "cell_type": "markdown",
   "metadata": {},
   "source": [
    "## Implementation"
   ]
  },
  {
   "cell_type": "code",
   "execution_count": 1,
   "metadata": {},
   "outputs": [],
   "source": [
    "def sorting_key(e):\n",
    "    return e[1]  # e -> ('vertex', profit), function returns profit, used for sorting"
   ]
  },
  {
   "cell_type": "code",
   "execution_count": 2,
   "metadata": {},
   "outputs": [],
   "source": [
    "class UndirectedGraph:\n",
    "    def __init__(self):\n",
    "        self.graph = {}\n",
    "        self.vertex_profit = {}     # stores the potential profit of each vertex\n",
    "\n",
    "    def add_vertices(self, vertex, potent_profit):\n",
    "        self.graph[vertex] = []\n",
    "        self.vertex_profit[vertex] = potent_profit\n",
    "\n",
    "    def add_edge(self, vertex1, vertex2):\n",
    "        # undirected graph implementation - 2 way edges\n",
    "        self.graph[vertex1].append(vertex2)\n",
    "        self.graph[vertex2].append(vertex1)\n",
    "\n",
    "    def find_locations(self):  # solution for (a)\n",
    "        u = []\n",
    "        total_profit = 0\n",
    "        # sorting in descending with key set to the potential profit unit\n",
    "        list_vertices = list(self.vertex_profit.items())\n",
    "        list_vertices.sort(key=sorting_key, reverse=True)\n",
    "\n",
    "        while list_vertices:\n",
    "            vertex, profit = list_vertices.pop(0)\n",
    "            u.append((vertex, profit))\n",
    "            total_profit += profit\n",
    "\n",
    "            for neighbours in self.graph[vertex]:\n",
    "                for i in list_vertices:\n",
    "                    if i[0] == neighbours:\n",
    "                        list_vertices.remove(i)\n",
    "        print(u)\n",
    "        print(total_profit)\n",
    "\n",
    "    def find_locations_equal(self):  # solution for (b)\n",
    "        u = []\n",
    "        total_locations = 0\n",
    "        list_vertices = []\n",
    "        for _ in self.graph:\n",
    "            list_vertices.append((_, len(self.graph[_])))\n",
    "        # sorting in ascending with key set to no of neighbours\n",
    "        list_vertices.sort(key=sorting_key)\n",
    "\n",
    "        while list_vertices:\n",
    "            vertex, no_neighbours = list_vertices.pop(0)\n",
    "            u.append((vertex, self.vertex_profit[vertex]))\n",
    "            total_locations += 1\n",
    "            for neighbours in self.graph[vertex]:\n",
    "                for i in list_vertices:\n",
    "                    if i[0] == neighbours:\n",
    "                        list_vertices.remove(i)\n",
    "        print(u)\n",
    "        print(total_locations)"
   ]
  },
  {
   "cell_type": "code",
   "execution_count": 3,
   "metadata": {},
   "outputs": [],
   "source": [
    "def main():\n",
    "    street_net = UndirectedGraph()\n",
    "    vertices = [('A', 10), ('B', 10), ('C', 10), ('D', 12), ('E', 10)]\n",
    "    for i in vertices:\n",
    "        street_net.add_vertices(i[0], i[1])\n",
    "\n",
    "    edges = [('A', 'B'), ('A', 'C'), ('C', 'E'), ('C', 'D')]\n",
    "    for _ in edges:\n",
    "        street_net.add_edge(_[0], _[1])\n",
    "\n",
    "    street_net.find_locations()\n",
    "    print()\n",
    "    street_net.find_locations_equal()"
   ]
  },
  {
   "cell_type": "code",
   "execution_count": 4,
   "metadata": {},
   "outputs": [
    {
     "name": "stdout",
     "output_type": "stream",
     "text": [
      "[('D', 12), ('A', 10), ('E', 10)]\n",
      "32\n",
      "\n",
      "[('B', 10), ('D', 12), ('E', 10)]\n",
      "3\n"
     ]
    }
   ],
   "source": [
    "main()"
   ]
  },
  {
   "cell_type": "markdown",
   "metadata": {},
   "source": [
    "## Counter Example"
   ]
  },
  {
   "cell_type": "markdown",
   "metadata": {},
   "source": [
    "![Alt text](IMG_2960.jpg)"
   ]
  },
  {
   "cell_type": "markdown",
   "metadata": {},
   "source": [
    "## Optimal Solution"
   ]
  },
  {
   "cell_type": "markdown",
   "metadata": {},
   "source": [
    "![Alt text](IMG_2961.jpg)"
   ]
  }
 ],
 "metadata": {
  "kernelspec": {
   "display_name": "Python 3 (ipykernel)",
   "language": "python",
   "name": "python3"
  },
  "language_info": {
   "codemirror_mode": {
    "name": "ipython",
    "version": 3
   },
   "file_extension": ".py",
   "mimetype": "text/x-python",
   "name": "python",
   "nbconvert_exporter": "python",
   "pygments_lexer": "ipython3",
   "version": "3.11.2"
  }
 },
 "nbformat": 4,
 "nbformat_minor": 1
}
