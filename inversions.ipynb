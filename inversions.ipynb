{
 "cells": [
  {
   "cell_type": "code",
   "execution_count": 4,
   "metadata": {},
   "outputs": [
    {
     "name": "stdout",
     "output_type": "stream",
     "text": [
      "['3', ' 2', ' 1']\n",
      "[3, 2, 1]\n",
      "3\n"
     ]
    }
   ],
   "source": [
    "def inversion(A):\n",
    "    inversion_count = 0\n",
    "    for i in range(len(A)):\n",
    "        for j in range(i+1, len(A)):\n",
    "            if A[i] > A[j]:\n",
    "                inversion_count += 1\n",
    "    return inversion_count\n",
    "\n",
    "def main():\n",
    "    n = int(input())  # size\n",
    "    A = input().split(\",\")  # array elements\n",
    "    for i in range(len(A)):\n",
    "        A[i] = int(A[i].strip())\n",
    "    print(A)\n",
    "    print(inversion(A))\n",
    "\n",
    "main()\n",
    "    "
   ]
  },
  {
   "cell_type": "code",
   "execution_count": 5,
   "metadata": {},
   "outputs": [
    {
     "ename": "NameError",
     "evalue": "name 'A' is not defined",
     "output_type": "error",
     "traceback": [
      "\u001B[0;31m---------------------------------------------------------------------------\u001B[0m",
      "\u001B[0;31mNameError\u001B[0m                                 Traceback (most recent call last)",
      "Cell \u001B[0;32mIn[5], line 1\u001B[0m\n\u001B[0;32m----> 1\u001B[0m \u001B[39mprint\u001B[39m(A)\n",
      "\u001B[0;31mNameError\u001B[0m: name 'A' is not defined"
     ]
    }
   ],
   "source": [
    "print(A)"
   ]
  },
  {
   "cell_type": "code",
   "execution_count": null,
   "metadata": {},
   "outputs": [],
   "source": [
    "def inversion_merge(A):\n",
    "    mid = len(A) // 2\n",
    "    left = A[:mid]\n",
    "    right = A[mid:]\n",
    "    inversion_merge(left)\n",
    "    inversion_merge(right)\n",
    "    return merge(left, right)\n",
    "\n",
    "def merge(l, r):\n",
    "    for i in range(len(l)):\n",
    "        for j in r"
   ]
  }
 ],
 "metadata": {
  "kernelspec": {
   "display_name": "MachineLearning",
   "language": "python",
   "name": "python3"
  },
  "language_info": {
   "codemirror_mode": {
    "name": "ipython",
    "version": 3
   },
   "file_extension": ".py",
   "mimetype": "text/x-python",
   "name": "python",
   "nbconvert_exporter": "python",
   "pygments_lexer": "ipython3",
   "version": "3.11.4"
  },
  "orig_nbformat": 4
 },
 "nbformat": 4,
 "nbformat_minor": 2
}
